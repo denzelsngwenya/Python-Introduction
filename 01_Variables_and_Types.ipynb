{
 "cells": [
  {
   "cell_type": "markdown",
   "id": "25d56cd0",
   "metadata": {},
   "source": [
    "## Variables and Types"
   ]
  },
  {
   "cell_type": "markdown",
   "id": "b98914b3",
   "metadata": {},
   "source": [
    " Definition : **variable**\n",
    "\n",
    "In Python, a variable is an object/ container used to store data, it allows us to store the information by assigning it to a symnbolic name given by the user. It is defined by using the mathematical operator '='. Remember to always start with the variable name on the left, then assign data to the variable.\n",
    "\n",
    "For example:\n",
    "\n",
    "$$x = 5.5, \\quad \\text{not} \\quad 5.5 = x$$\n",
    "\n",
    "Mathematically, here we would be assigning a value of 5 to variable x, we are not saying that x is the same as 5.\n",
    "\n",
    "**NOTE**: In Python, the expression \"=\" is not the same as the mathematical definition of the equal sign, here it is an assignment operator."
   ]
  },
  {
   "cell_type": "markdown",
   "id": "69e15697",
   "metadata": {},
   "source": [
    "Here, we look at some basic examples of direct assignment"
   ]
  },
  {
   "cell_type": "markdown",
   "id": "7d29951b",
   "metadata": {},
   "source": [
    "### Naming Conventions"
   ]
  },
  {
   "cell_type": "code",
   "execution_count": 7,
   "id": "d7f768e0",
   "metadata": {},
   "outputs": [
    {
     "name": "stdout",
     "output_type": "stream",
     "text": [
      "245\n"
     ]
    }
   ],
   "source": [
    "# Define a variable called 'var1' and assign a value of 245 to 'var1'\n",
    "\n",
    "var1 = 245\n",
    "print(var1)"
   ]
  },
  {
   "cell_type": "markdown",
   "id": "e6726d46",
   "metadata": {},
   "source": [
    "The `print()` function allows us to print what is stored in the variable that we defined, we will cover more on functions in later sessions.\n",
    "\n",
    "#### What 'names' can we use as variable names?\n",
    "\n",
    "There are a list of rules that we need to abide to when naming our key words:\n",
    "<ol>\n",
    "    <li> variable names can not be key words\n",
    "    <li> they should not begin with a number e.g 5var\n",
    "    <li> they should not contain the following special characters ($, #, - , . , ' , @ , ... ). So just stick to the underscore or a number if it does not violet the above rule.\n",
    "    <li> there should be no space in the variable name i.e you can not have earth gravity = 9.81\n",
    "    <li> variable name can be upper case of lower case, but just be consistent\n",
    "</ol>\n"
   ]
  },
  {
   "cell_type": "code",
   "execution_count": 21,
   "id": "b57e8288",
   "metadata": {},
   "outputs": [
    {
     "ename": "SyntaxError",
     "evalue": "invalid syntax (<ipython-input-21-2868a4350651>, line 3)",
     "output_type": "error",
     "traceback": [
      "\u001b[1;36m  File \u001b[1;32m\"<ipython-input-21-2868a4350651>\"\u001b[1;36m, line \u001b[1;32m3\u001b[0m\n\u001b[1;33m    var.6 = 5\u001b[0m\n\u001b[1;37m       ^\u001b[0m\n\u001b[1;31mSyntaxError\u001b[0m\u001b[1;31m:\u001b[0m invalid syntax\n"
     ]
    }
   ],
   "source": [
    "# Example of wrong variable names, gives an error\n",
    "\n",
    "var.6 = 5"
   ]
  },
  {
   "cell_type": "code",
   "execution_count": 25,
   "id": "c3711837",
   "metadata": {},
   "outputs": [
    {
     "name": "stdout",
     "output_type": "stream",
     "text": [
      "The Python keywords you should not use as variable names are: \n",
      "\n",
      "['False', 'None', 'True', 'and', 'as', 'assert', 'async', 'await', 'break', 'class', 'continue', 'def', 'del', 'elif', 'else', 'except', 'finally', 'for', 'from', 'global', 'if', 'import', 'in', 'is', 'lambda', 'nonlocal', 'not', 'or', 'pass', 'raise', 'return', 'try', 'while', 'with', 'yield']\n"
     ]
    }
   ],
   "source": [
    "# To know the key words that should not be used as variable names, we can use the code below.\n",
    "#   Its not a piece of code that you will be using frequently, the more you code you will know these key \n",
    "#   words like the back of your hand.\n",
    "\n",
    "import keyword\n",
    "\n",
    "print(\"The Python keywords you should not use as variable names are: \\n\")\n",
    "print(keyword.kwlist)"
   ]
  },
  {
   "cell_type": "markdown",
   "id": "89ebbcb3",
   "metadata": {},
   "source": [
    "Here, key words will turn green, so you will have to use another name, or break the keyword by adding an underscore\n",
    "e.g `pass_` instead of `pass`. \n",
    "\n",
    "But as a convention, avoid using keywords as variable names, there are a million other variable names you can use besides the 35 key words\n",
    "\n",
    "It is recommended to use  `UpperCamelCase` for class names, `CAPITALIZED_WITH_UNDERSCORES` for constants, and `snake_case` for other names."
   ]
  },
  {
   "cell_type": "markdown",
   "id": "0579f90b",
   "metadata": {},
   "source": [
    "### Multiple assignments\n",
    "\n",
    "You can have multiple variables that are assigned the same value. This can be done in the following ways"
   ]
  },
  {
   "cell_type": "code",
   "execution_count": 29,
   "id": "4f3c9157",
   "metadata": {},
   "outputs": [
    {
     "name": "stdout",
     "output_type": "stream",
     "text": [
      "12 12 12\n"
     ]
    }
   ],
   "source": [
    "var_1 = var_2 = var_3 = 12\n",
    "\n",
    "print(var_1 , var_2, var_3)"
   ]
  },
  {
   "cell_type": "markdown",
   "id": "301f3d46",
   "metadata": {},
   "source": [
    "### Parallel assignment\n",
    "\n",
    "Here we will be defining multiple variables on the same line of code, using one assignment operator `=`"
   ]
  },
  {
   "cell_type": "code",
   "execution_count": 35,
   "id": "da61f1b5",
   "metadata": {},
   "outputs": [
    {
     "name": "stdout",
     "output_type": "stream",
     "text": [
      "x =  4  and  y =  6\n"
     ]
    }
   ],
   "source": [
    "x , y = 4 , 6\n",
    "\n",
    "print('x = ', x ,' and ','y = ', y)"
   ]
  },
  {
   "cell_type": "markdown",
   "id": "db0374b8",
   "metadata": {},
   "source": [
    "### Variable Types\n",
    "\n",
    "There are about 4 common data types in Python and we will briefly go through them, we will further understand these as we work with them in later scripts. However, below is a comprehensive list of Python data types, some we may not even use atleast in these Introduction Scripts\n",
    "\n",
    "<ol>\n",
    "    <li> Numerical (int, float, complex)\n",
    "    <li> Text (str)\n",
    "    <li> Sequences (list, tuple)\n",
    "    <li> Boolean (bool)\n",
    "    <li> NoneType\n",
    "    <li> Other: Set, Bytes etc\n",
    "</ol>"
   ]
  },
  {
   "cell_type": "code",
   "execution_count": 40,
   "id": "17afc9d3",
   "metadata": {},
   "outputs": [
    {
     "data": {
      "text/plain": [
       "int"
      ]
     },
     "execution_count": 40,
     "metadata": {},
     "output_type": "execute_result"
    }
   ],
   "source": [
    "# To find the type of the variable, we use the function type() e.g 'type(variable)'\n",
    "\n",
    "x = 3\n",
    "type(x)"
   ]
  },
  {
   "cell_type": "code",
   "execution_count": 45,
   "id": "00ea52c2",
   "metadata": {},
   "outputs": [
    {
     "name": "stdout",
     "output_type": "stream",
     "text": [
      "<class 'int'>\n",
      "<class 'int'>\n",
      "<class 'int'>\n"
     ]
    }
   ],
   "source": [
    "###====================================================\n",
    "###                 int()\n",
    "###====================================================\n",
    "\n",
    "# Int represents integers, numeric numbers that does not contain a decimal point. \n",
    "# These can take positive and negative numbers as illustrated below.\n",
    "\n",
    "a = 1\n",
    "b = 15548943132\n",
    "c = -798413\n",
    "\n",
    "print(type(a))\n",
    "print(type(b))\n",
    "print(type(c))"
   ]
  },
  {
   "cell_type": "code",
   "execution_count": 50,
   "id": "84973afd",
   "metadata": {},
   "outputs": [
    {
     "name": "stdout",
     "output_type": "stream",
     "text": [
      "<class 'float'>\n",
      "<class 'float'>\n",
      "<class 'float'>\n"
     ]
    }
   ],
   "source": [
    "###====================================================\n",
    "###                 float()\n",
    "###====================================================\n",
    "\n",
    "# float() represents floating point numbers, these are numbers that contain one or more decimals. \n",
    "# These can take positive and negative numbers as illustrated below. \n",
    "# We can use the exponents 'e' when writing floats\n",
    "\n",
    "d = 1.0\n",
    "e =  123232e8\n",
    "f = -123432223567.345\n",
    "\n",
    "print(type(d))\n",
    "print(type(e))\n",
    "print(type(f))"
   ]
  },
  {
   "cell_type": "code",
   "execution_count": 51,
   "id": "3596297e",
   "metadata": {},
   "outputs": [
    {
     "name": "stdout",
     "output_type": "stream",
     "text": [
      "<class 'complex'>\n",
      "<class 'complex'>\n"
     ]
    }
   ],
   "source": [
    "###=================================================\n",
    "###                 complex()\n",
    "###=================================================\n",
    "\n",
    "# For complex numbers unlike in Math and Physics where we use the letter 'i' for the imaginary number\n",
    "# In Python, we use the letter 'j'\n",
    "\n",
    "g = 2j\n",
    "h = 2 - 6j\n",
    "\n",
    "print(type(g))\n",
    "print(type(h))"
   ]
  },
  {
   "cell_type": "code",
   "execution_count": 55,
   "id": "632bd535",
   "metadata": {},
   "outputs": [
    {
     "name": "stdout",
     "output_type": "stream",
     "text": [
      "Hello World : <class 'str'>\n",
      "World's Hello : <class 'str'>\n"
     ]
    }
   ],
   "source": [
    "### ===============================================\n",
    "###               str()\n",
    "### ===============================================\n",
    "\n",
    "# Strings are used to represent texts, these are always surrounded by quotation marks\n",
    "# Either use single ('text') or double (\"text\") quatation marks.\n",
    "# If the string has a single quotation mark, you should use the double quotation mark, to\n",
    "#    prevent termination of the string.\n",
    "\n",
    "i = 'Hello World'\n",
    "ii = \"World's Hello\"\n",
    "\n",
    "print(i, ':',type(i))\n",
    "print(ii, ':',type(ii))"
   ]
  },
  {
   "cell_type": "code",
   "execution_count": 57,
   "id": "f1d1c486",
   "metadata": {},
   "outputs": [
    {
     "name": "stdout",
     "output_type": "stream",
     "text": [
      "False\n",
      "True\n",
      "True\n"
     ]
    }
   ],
   "source": [
    "### =================================================\n",
    "###                bool()\n",
    "### =================================================\n",
    "\n",
    "# Boolean Values tests if a statement is true or false.\n",
    "\n",
    "print( 4 == 5)\n",
    "print( 6> 2.3)\n",
    "print (7.1 <= 7.1)"
   ]
  },
  {
   "cell_type": "markdown",
   "id": "28f9cda8",
   "metadata": {},
   "source": [
    "###  Python as a calculator\n",
    "\n",
    "Python can be used to add, subtract and do all other fun mathematical operations, below is a summary of the basic mathematical operations\n",
    "\n",
    "| Description    | Sign | Example |\n",
    "|----------------|------|---------|\n",
    "| Addition       | +    | $x+y$   |\n",
    "| Subtraction    | -    | $x-y$   |\n",
    "| Division       | /    | $x/y$   |\n",
    "| Multiplication | *    | $x*y$   |\n",
    "| Modulus        | %    | $x%y$   |\n",
    "| Power          | **   | $x**y$  |\n",
    "| Floor Division | //   | $x//y$  |\n",
    "\n",
    "The order of operation that is defined in Mathematics still holds in Python, that is \n",
    "\n",
    "<ol>\n",
    "    <li> Parenthesis ()\n",
    "    <li> Exponentiation **\n",
    "    <li> Unary +x, -x\n",
    "    <li> Multiplication * , Division /\n",
    "    <li> Addition +, Subtraction -\n",
    "    <li> Bitwise AND &, Bitwise XOR ^, Bitwise OR |\n",
    "    <li> Comparisons, Identity and Membership operators\n",
    "</ol>\n",
    "\n",
    "\n",
    "<left> <b> <span style=\"color:blue;\">Assigning and comparing are not the same !</span> </b></left>\n",
    "Remember that the ` = ` does not have the same meaning than the equal sign in mathematics. Further, the variable name should be at the left of the assignment operator"
   ]
  },
  {
   "cell_type": "code",
   "execution_count": 58,
   "id": "037254b8",
   "metadata": {},
   "outputs": [
    {
     "name": "stdout",
     "output_type": "stream",
     "text": [
      "53\n"
     ]
    }
   ],
   "source": [
    "x = 5\n",
    "y = 12\n",
    "\n",
    "z = x * y + x - y\n",
    "print(z)"
   ]
  },
  {
   "cell_type": "code",
   "execution_count": 60,
   "id": "ed562cc9",
   "metadata": {},
   "outputs": [
    {
     "name": "stdout",
     "output_type": "stream",
     "text": [
      "13\n"
     ]
    }
   ],
   "source": [
    "z = 2*x + 3\n",
    "print(z)"
   ]
  },
  {
   "cell_type": "code",
   "execution_count": 62,
   "id": "9729b454",
   "metadata": {},
   "outputs": [
    {
     "ename": "SyntaxError",
     "evalue": "cannot assign to operator (<ipython-input-62-83aa2b951def>, line 4)",
     "output_type": "error",
     "traceback": [
      "\u001b[1;36m  File \u001b[1;32m\"<ipython-input-62-83aa2b951def>\"\u001b[1;36m, line \u001b[1;32m4\u001b[0m\n\u001b[1;33m    2*x + 3 = z\u001b[0m\n\u001b[1;37m    ^\u001b[0m\n\u001b[1;31mSyntaxError\u001b[0m\u001b[1;31m:\u001b[0m cannot assign to operator\n"
     ]
    }
   ],
   "source": [
    "# Notice what happens when we put the variable name on the right. Even if it mathematically makes sense\n",
    "# Python can not make sense of this as it reads code from the left.\n",
    "\n",
    "2*x + 3 = z"
   ]
  },
  {
   "cell_type": "markdown",
   "id": "c95d151e",
   "metadata": {},
   "source": [
    "### Casting\n",
    "\n",
    "We can specify the data type of a variable by casting. "
   ]
  },
  {
   "cell_type": "code",
   "execution_count": 43,
   "id": "dfb80740",
   "metadata": {},
   "outputs": [
    {
     "data": {
      "text/plain": [
       "str"
      ]
     },
     "execution_count": 43,
     "metadata": {},
     "output_type": "execute_result"
    }
   ],
   "source": [
    "# Usually 3 would read as an int data type, but we can cast it into a string using the code below\n",
    "\n",
    "x = str(3)\n",
    "\n",
    "type(x)"
   ]
  },
  {
   "cell_type": "code",
   "execution_count": 70,
   "id": "192bb3d1",
   "metadata": {},
   "outputs": [
    {
     "name": "stdout",
     "output_type": "stream",
     "text": [
      "5 : <class 'int'>\n",
      "5 : <class 'str'>\n",
      "5.0 : <class 'float'>\n",
      "(5+0j) : <class 'complex'>\n",
      "True : <class 'bool'>\n"
     ]
    }
   ],
   "source": [
    "var = 5\n",
    "\n",
    "print(var ,':', type(var))\n",
    "print(str(var) ,':', type(str(var)))\n",
    "print(float(var) ,':', type(float(var)))\n",
    "print(complex(var) ,':', type(complex(var)))\n",
    "print(bool(var) ,':', type(bool(var)))"
   ]
  },
  {
   "cell_type": "markdown",
   "id": "53576b17",
   "metadata": {},
   "source": [
    "### Short Exercises to test understanding"
   ]
  },
  {
   "cell_type": "markdown",
   "id": "2e6e8222",
   "metadata": {},
   "source": [
    "#### Question 1 - What is wrong with variable names below, how would you correct it\n"
   ]
  },
  {
   "cell_type": "code",
   "execution_count": 73,
   "id": "f354533d",
   "metadata": {},
   "outputs": [
    {
     "ename": "SyntaxError",
     "evalue": "invalid decimal literal (<ipython-input-73-406d6dbf6539>, line 1)",
     "output_type": "error",
     "traceback": [
      "\u001b[1;36m  File \u001b[1;32m\"<ipython-input-73-406d6dbf6539>\"\u001b[1;36m, line \u001b[1;32m1\u001b[0m\n\u001b[1;33m    4_var = 1.2\u001b[0m\n\u001b[1;37m     ^\u001b[0m\n\u001b[1;31mSyntaxError\u001b[0m\u001b[1;31m:\u001b[0m invalid decimal literal\n"
     ]
    }
   ],
   "source": [
    "4_var = 1.2\n",
    "money$ = 2000\n",
    "variable-name = 'String'\n",
    "async = 12\n",
    "var_name = 'string's'"
   ]
  },
  {
   "cell_type": "markdown",
   "id": "4009fac7",
   "metadata": {},
   "source": [
    "#### Question 2 - What is the data type of the following variables"
   ]
  },
  {
   "cell_type": "code",
   "execution_count": 72,
   "id": "76393c16",
   "metadata": {},
   "outputs": [],
   "source": [
    "x_1 = 4.7\n",
    "x_2 = 0j\n",
    "x_3 = 0.3e1\n",
    "x_4 = 'My name is Python Coder'"
   ]
  },
  {
   "cell_type": "code",
   "execution_count": null,
   "id": "99702550",
   "metadata": {},
   "outputs": [],
   "source": []
  }
 ],
 "metadata": {
  "kernelspec": {
   "display_name": "Python 3",
   "language": "python",
   "name": "python3"
  },
  "language_info": {
   "codemirror_mode": {
    "name": "ipython",
    "version": 3
   },
   "file_extension": ".py",
   "mimetype": "text/x-python",
   "name": "python",
   "nbconvert_exporter": "python",
   "pygments_lexer": "ipython3",
   "version": "3.8.8"
  }
 },
 "nbformat": 4,
 "nbformat_minor": 5
}
